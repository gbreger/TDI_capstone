{
 "cells": [
  {
   "cell_type": "code",
   "execution_count": 1,
   "id": "ecf031e0",
   "metadata": {},
   "outputs": [],
   "source": [
    "import pandas as pd\n",
    "\n",
    "pd.set_option('display.max_columns', 50)\n",
    "pd.set_option('display.max_rows', 50)"
   ]
  },
  {
   "cell_type": "code",
   "execution_count": 2,
   "id": "3a31567b",
   "metadata": {},
   "outputs": [],
   "source": [
    "# Read in the IGDB credentials, stored as environmental variables, and create the connection string to IGDB\n",
    "import os\n",
    "\n",
    "client_id = os.getenv('IGDB_CLIENT_ID')\n",
    "client_secret = os.getenv('IGDB_CLIENT_SECRET')\n",
    "\n",
    "conn_string = f'https://id.twitch.tv/oauth2/token?client_id={client_id}&client_secret={client_secret}&grant_type=client_credentials'"
   ]
  },
  {
   "cell_type": "code",
   "execution_count": 3,
   "id": "8ab4918a",
   "metadata": {},
   "outputs": [],
   "source": [
    "# Connect to IGDB and get an access token\n",
    "\n",
    "import requests\n",
    "\n",
    "response = requests.post(conn_string)\n",
    "\n",
    "access_token = response.json()['access_token']"
   ]
  },
  {
   "cell_type": "code",
   "execution_count": 8,
   "id": "d07ae4f3",
   "metadata": {},
   "outputs": [],
   "source": [
    "def hit_api(endpoint, offset=0, query_size=500):\n",
    "    \"\"\"\n",
    "    Access the IGDB API at a certain endpoint once.\n",
    "    \n",
    "    Parameters\n",
    "    ----------\n",
    "    endpoint : str\n",
    "        The name of the endpoint in the IGDB API.\n",
    "    offset : int, default 0\n",
    "        The data row from which to start the query. Normally a multiple of query_size.\n",
    "    query_size : int, default 500\n",
    "        How many data rows should this function retrieve.\n",
    "    \n",
    "    Returns\n",
    "    -------\n",
    "    pandas.DataFrame\n",
    "        If response was successful, returns a dataframe with the queried data.\n",
    "        Otherwise returns an empty dataframe.\n",
    "    \"\"\"\n",
    "    data_parameter = f'fields *; limit {query_size}; offset {offset};'\n",
    "    \n",
    "    response = requests.post(f'https://api.igdb.com/v4/{endpoint}',\n",
    "                             headers = {'Client-ID': client_id,\n",
    "                                        'Authorization': f'Bearer {access_token}'},\n",
    "                             data = data_parameter)\n",
    "    if response.status_code == 200:\n",
    "        return pd.DataFrame(response.json())\n",
    "    else:\n",
    "        print (f'Failed request at offset {offset}')\n",
    "        return pd.DataFrame()"
   ]
  },
  {
   "cell_type": "code",
   "execution_count": 5,
   "id": "3d55c874",
   "metadata": {},
   "outputs": [],
   "source": [
    "import time\n",
    "\n",
    "def import_igdb(endpoint='games', runs=-1):\n",
    "    \"\"\"\n",
    "    Import an entire endpoint from IGDB by calling the hit_api function.\n",
    "    \n",
    "    Allows to set the number of times the given endpoint is accessed.\n",
    "    \n",
    "    Parameters\n",
    "    ----------\n",
    "    endpoint : str, default 'games'\n",
    "        The name of the endpoint to be accessed at IGDB. For possible values, see https://api-docs.igdb.com/#endpoints.\n",
    "    runs : int, default -1\n",
    "        The number of times the same endpoint will be accessed, retrieving data from the first row of the data set onwards.\n",
    "        Each access will retrieve up to 500 rows. If set to a negative number, the function will retreive the entire data\n",
    "        of the endpoint.\n",
    "        \n",
    "    Returns\n",
    "    -------\n",
    "    pandas.DataFrame\n",
    "        A dataframe containing the retreived data from the designated endpoint.\n",
    "    \"\"\"\n",
    "    \n",
    "    requests_per_second = 4 # the API accepts only 4 requests per second\n",
    "    delay_between_requests = 1.0 / requests_per_second\n",
    "    \n",
    "    query_size = 500\n",
    "    offset = 0\n",
    "    igdb_df = pd.DataFrame() # initializes the return value of the function \n",
    "    \n",
    "    # as long as the function hasn't reached the number of runs passed to it, it will continue to query the API\n",
    "    # and concatenate the results into the variable it returns (i.e., igdb_df).\n",
    "    while runs != 0:\n",
    "        \n",
    "        # access the next batch of data points\n",
    "        next_api_group = hit_api(endpoint, offset, query_size)\n",
    "        \n",
    "        # concatenate this newest batch into the ever-growing return value\n",
    "        igdb_df = pd.concat([igdb_df, next_api_group], ignore_index=True)\n",
    "        \n",
    "        # if the size of the new batch is smaller than the query_size, it means that there are no further data points to\n",
    "        # retrieve, so the function breaks out of the while loop\n",
    "        if len(next_api_group) < query_size:\n",
    "            break\n",
    "        \n",
    "        # otherwise, there are more data points to retreive, so the function adjusts the offset appropriately, pauses\n",
    "        # to remain within the request per second rate, and reduce the number of runs left by one.\n",
    "        else:\n",
    "            offset += query_size\n",
    "            time.sleep(delay_between_requests)\n",
    "            runs -= 1\n",
    "            \n",
    "    return igdb_df    "
   ]
  },
  {
   "cell_type": "code",
   "execution_count": null,
   "id": "1361f8f1",
   "metadata": {},
   "outputs": [],
   "source": [
    "# Imports an entire endpoint from IGDB and saves it to a variable called df\n",
    "\n",
    "df = import_igdb('genres')"
   ]
  },
  {
   "cell_type": "code",
   "execution_count": null,
   "id": "164e4c80",
   "metadata": {},
   "outputs": [],
   "source": [
    "# write  data to csv file\n",
    "df.to_csv('genres.csv', index=False)"
   ]
  }
 ],
 "metadata": {
  "kernelspec": {
   "display_name": "Python 3 (ipykernel)",
   "language": "python",
   "name": "python3"
  },
  "language_info": {
   "codemirror_mode": {
    "name": "ipython",
    "version": 3
   },
   "file_extension": ".py",
   "mimetype": "text/x-python",
   "name": "python",
   "nbconvert_exporter": "python",
   "pygments_lexer": "ipython3",
   "version": "3.10.9"
  }
 },
 "nbformat": 4,
 "nbformat_minor": 5
}
