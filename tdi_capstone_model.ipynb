{
 "cells": [
  {
   "cell_type": "markdown",
   "id": "add8b3ee",
   "metadata": {},
   "source": [
    "## Outline\n",
    "This notebook contains the code for the ML model for the project.\n",
    "It assumes that the data it is given is already cleaned and ready for processing. The process of cleaning up the data is done in the data engineering notebook.\n",
    "\n",
    "It assumes that the dataset contains columns with three data types: numerical (e.g. sales), categorical (e.g., platform, genre), and descriptive (a text description of the game).\n",
    "\n",
    "The numerical data would not require any further manipulation.\n",
    "\n",
    "The categorical data will be one-hot encoded.\n",
    "\n",
    "The text description will need to be transformed using NLP methods. One way of doing this is some kind of count vectorizer, that will teach the model which words appear in better-selling games. Another way of thinking about it is to think of the text description as a \"review\" (like in yelp), and the corresponding sales figure as the \"rating.\" Can the model use the words in the text description to predict (or to use as part of other features to predict) the sales of a game?"
   ]
  },
  {
   "cell_type": "markdown",
   "id": "466f3b28",
   "metadata": {},
   "source": [
    "## Ideas about the model\n",
    "What does the model do?\n",
    "\n",
    "What does it need to do with the numerical, categorical, and descriptive data?\n",
    "\n",
    "This is a regression problem!\n",
    "\n",
    "Starting from the end:\n",
    "1. A regressor: what kind of regressor would work here? Given the data, I think I can try a linear model first. I can withhold a piece of the data and use it as a test set, to see how the linear model performs. If it doesn't do well (whatever that means), I can try other options. I need to remember that this is a regression problem and therefore should focus on regression estimators.\n",
    "2. The regressor will be fed the feature matrix.\n",
    "3. The feature matrix will include numerical data, categorical data, and descriptive (free-text) data.\n",
    "4. Does the numerical data need to be altered? The numerical data that I currently am thinking of is just the sales data, which is already scaled, so I don't think I need to do anything with the numerical data.\n",
    "5. Categorical data will need to be one-hot encoded. This is the majority of my features, from genre and platform, to franchise and potentially age-rating. So a OHE can be applied to all of these. This will increase the number of features greatly. Combined with the NLP data, this may result in a larger number of features than observations.\n",
    "6. The text data will need to be processed using NLP methods... HOW SO?"
   ]
  },
  {
   "cell_type": "markdown",
   "id": "c7b02069",
   "metadata": {},
   "source": [
    "## Workflow of the model\n",
    "\n",
    "(0. Transforming the numerical data by scaling it - this step is not necessary because the only numerical data currently is the sales values, which are already scaled.)\n",
    "1. Transforming the categorical data - using OHE\n",
    "2. Transforming the text data - using NLP methods... TBD\n",
    "3. Training a regressor, starting out with LinearRegression\n",
    "4. Using CV\n",
    "\n",
    "Then:\n",
    "\n",
    "5. Test the model by splitting the data into a training and testing set and see how well it performs in predicting the sales of the withheld testing set.\n",
    "6. ..."
   ]
  },
  {
   "cell_type": "code",
   "execution_count": 1,
   "id": "c697d9c5",
   "metadata": {},
   "outputs": [],
   "source": [
    "import numpy as np\n",
    "import pandas as pd\n",
    "pd.set_option('display.max_columns', 50)\n",
    "pd.set_option('display.max_rows', 50)"
   ]
  },
  {
   "cell_type": "code",
   "execution_count": 2,
   "id": "acdfe35e",
   "metadata": {},
   "outputs": [],
   "source": [
    "# Standardization of strings\n",
    "\n",
    "import re\n",
    "from unidecode import unidecode\n",
    "\n",
    "def standardize_string(string):\n",
    "\n",
    "    if not isinstance(string, str):\n",
    "        return ''\n",
    "        \n",
    "    # converts everything to unicode, addressing diacritics as well as chinese characters\n",
    "    string = unidecode(string)\n",
    "    \n",
    "    # removes any non-alphanumeric character or non-space as well as parenthesis (and their inclused content)\n",
    "    regex = r'\\([^)]*\\)|[^a-zA-Z0-9\\s]'\n",
    "    string = re.sub(regex, '', string)\n",
    "    \n",
    "    # standardizes spacing that there is only one space between each word\n",
    "    string = re.sub(r'\\s+', ' ', string)\n",
    "    \n",
    "    # changes to lowercase and strips whitespaces\n",
    "    return string.lower().strip()"
   ]
  },
  {
   "cell_type": "code",
   "execution_count": 3,
   "id": "d84e2f40",
   "metadata": {},
   "outputs": [],
   "source": [
    "def pseudo_list_parser(item, dtype=int, ignore_ws=True):\n",
    "\n",
    "    if isinstance(item, str):\n",
    "        if ignore_ws:\n",
    "            item = item.replace(' ', '')\n",
    "        return [dtype(x) for x in item.replace('[','').replace(']', '').split(',')]\n",
    "    \n",
    "    return item"
   ]
  },
  {
   "cell_type": "markdown",
   "id": "928488c2",
   "metadata": {},
   "source": [
    "## Loading the data and parsing it"
   ]
  },
  {
   "cell_type": "code",
   "execution_count": 4,
   "id": "e5680923",
   "metadata": {},
   "outputs": [],
   "source": [
    "# load the data\n",
    "drop_columns = [\n",
    "    'name',\n",
    "    'release_year',\n",
    "    'closest_match',\n",
    "    'match_score',\n",
    "    'id',\n",
    "    'first_release_date',\n",
    "    'external_games',\n",
    "    'release_dates',\n",
    "    'similar_games',\n",
    "    'language_supports',\n",
    "    'status',\n",
    "    'alternative_names',\n",
    "    'bundles',\n",
    "    'collections',\n",
    "    'parent_game',\n",
    "    'collection'\n",
    "    ]\n",
    "\n",
    "df = (pd.read_csv('data_complete.csv', index_col='index')\n",
    "      .drop(drop_columns, axis=1))"
   ]
  },
  {
   "cell_type": "code",
   "execution_count": 5,
   "id": "e4edf26f",
   "metadata": {},
   "outputs": [],
   "source": [
    "# columns with numerical data\n",
    "numeric_columns = ['sales_na', 'sales_eu', 'sales_jp', 'sales_other', 'sales_global']\n",
    "\n",
    "# columns with text descriptions\n",
    "text_columns = ['summary', 'storyline']\n",
    "\n",
    "# columns that contain lists\n",
    "list_columns = ['age_ratings', 'game_modes', 'genres', 'themes', 'involved_companies', 'keywords',\n",
    "               'multiplayer_modes', 'franchises', 'game_engines', 'player_perspectives', 'game_localizations']\n",
    "# parse the columns that contain pseudo-lists into lists and populate those with non-list (=NaN) with empty lists\n",
    "df[list_columns] = df[list_columns].applymap(lambda x: pseudo_list_parser(x)).applymap(lambda x: x if isinstance(x, list) else [])\n",
    "\n",
    "# since most columns are categorical, it is simpler to exclude columns from df.columns than to explicitly list them out\n",
    "non_ohe_columns = numeric_columns + text_columns + list_columns\n",
    "\n",
    "ohe_columns = [column_name for column_name in df.columns if column_name not in non_ohe_columns]"
   ]
  },
  {
   "cell_type": "markdown",
   "id": "f7d0746c",
   "metadata": {},
   "source": [
    "## The model"
   ]
  },
  {
   "cell_type": "code",
   "execution_count": 6,
   "id": "3ebcc353",
   "metadata": {},
   "outputs": [],
   "source": [
    "from sklearn.preprocessing import OneHotEncoder\n",
    "from sklearn.compose import ColumnTransformer\n",
    "\n",
    "from sklearn.linear_model import LinearRegression, Ridge\n",
    "from sklearn.ensemble import RandomForestRegressor\n",
    "from sklearn.neighbors import KNeighborsRegressor\n",
    "\n",
    "from sklearn.pipeline import Pipeline\n",
    "from sklearn.model_selection import train_test_split\n",
    "from sklearn.model_selection import GridSearchCV"
   ]
  },
  {
   "cell_type": "code",
   "execution_count": 7,
   "id": "01e6ab0c",
   "metadata": {},
   "outputs": [],
   "source": [
    "from sklearn.base import BaseEstimator, TransformerMixin\n",
    "from sklearn.feature_extraction import DictVectorizer"
   ]
  },
  {
   "cell_type": "code",
   "execution_count": 8,
   "id": "5b5b7f2b",
   "metadata": {},
   "outputs": [],
   "source": [
    "from sklearn.decomposition import TruncatedSVD"
   ]
  },
  {
   "cell_type": "code",
   "execution_count": 9,
   "id": "1374c030",
   "metadata": {},
   "outputs": [],
   "source": [
    "class DictEncoder(BaseEstimator, TransformerMixin):\n",
    "\n",
    "    def fit(self, X, y=None):\n",
    "        return self\n",
    "    \n",
    "    def transform(self, X):\n",
    "#         X_trans = pd.DataFrame()\n",
    "        \n",
    "#         for column in X.columns:\n",
    "#             column_trans = [{key: 1 for key in item} for item in X[column]]\n",
    "#             X_trans[column] = column_trans\n",
    "        \n",
    "#         return X_trans\n",
    "        return [{key: 1 for key in row} for row in X] #, name=X.name)"
   ]
  },
  {
   "cell_type": "code",
   "execution_count": 10,
   "id": "bc1bd779",
   "metadata": {},
   "outputs": [],
   "source": [
    "list_column_vectorizer = Pipeline([\n",
    "    ('dict_encoder', DictEncoder()),\n",
    "    ('dict_vectorizer', DictVectorizer())\n",
    "])"
   ]
  },
  {
   "cell_type": "code",
   "execution_count": 11,
   "id": "a7ae72fe",
   "metadata": {},
   "outputs": [],
   "source": [
    "list_column_transformers = [(f'list_vect_{column}', list_column_vectorizer, f'{column}') for column in list_columns]"
   ]
  },
  {
   "cell_type": "code",
   "execution_count": 12,
   "id": "3d6dd6a8",
   "metadata": {},
   "outputs": [],
   "source": [
    "ohe_transformers = [('categorical', OneHotEncoder(handle_unknown='ignore'), ohe_columns)]"
   ]
  },
  {
   "cell_type": "code",
   "execution_count": 13,
   "id": "c02816ed",
   "metadata": {},
   "outputs": [],
   "source": [
    "def text_column_preprocessing(series):\n",
    "    \n",
    "    return series.map(standardize_string)"
   ]
  },
  {
   "cell_type": "code",
   "execution_count": 14,
   "id": "b77814e3",
   "metadata": {},
   "outputs": [],
   "source": [
    "from sklearn.feature_extraction.text import TfidfVectorizer\n",
    "from sklearn.preprocessing import FunctionTransformer\n",
    "from spacy.lang.en.stop_words import STOP_WORDS\n",
    "\n",
    "STOP_WORDS = STOP_WORDS.difference({'he','his','her','hers'}).union({'ll', 've'})\n",
    "\n",
    "text_column_vectorizer = Pipeline([\n",
    "    ('text_parse_and_split', FunctionTransformer(text_column_preprocessing)),\n",
    "    ('tfidf', TfidfVectorizer(min_df=20, max_df=0.5, stop_words=list(STOP_WORDS)))\n",
    "])\n",
    "\n",
    "text_column_transformers = [(f'text_{column}', text_column_vectorizer, f'{column}') for column in text_columns]"
   ]
  },
  {
   "cell_type": "code",
   "execution_count": 15,
   "id": "f0e98cc3",
   "metadata": {},
   "outputs": [],
   "source": [
    "features = ColumnTransformer(\n",
    "    transformers = list_column_transformers + ohe_transformers + text_column_transformers,\n",
    "    remainder='drop')\n",
    "\n",
    "svd = TruncatedSVD() # I think this is how to use it\n",
    "# pca doesn't work with sparse matrix\n",
    "\n",
    "# regressor = Ridge()\n",
    "regressor = RandomForestRegressor()\n",
    "# regressor = KNeighborsRegressor()\n",
    "\n",
    "param_grid = {\n",
    "# relaxed dimensionality reduction:\n",
    "    'dim_reduction__n_components': [100, 250, 500],\n",
    "# aggresive dimensionality reduction (for, e.g., KNN):\n",
    "#     'dim_reduction__n_components': [10, 20, 30],\n",
    "\n",
    "# Ridge hyperparameters\n",
    "#    'regressor__alpha': [0.1, 1.0, 10.0]\n",
    "# KNN hyperparameters\n",
    "#     'regressor__n_neighbors': [3, 5, 8, 10, 15]\n",
    "# RandomForest hyperparameters:\n",
    "    'regressor__n_estimators': [10, 50, 100, 200, 300],\n",
    "    'regressor__max_depth': [None, 10, 20, 50],\n",
    "    'regressor__min_samples_split': [2, 5, 10],\n",
    "    'regressor__min_samples_leaf': [1, 2, 4]\n",
    "}\n",
    "\n",
    "estimator = Pipeline([\n",
    "    ('dim_reduction', svd),\n",
    "    ('regressor', regressor)\n",
    "])\n",
    "\n",
    "gs = GridSearchCV(\n",
    "    estimator,\n",
    "    param_grid=param_grid,\n",
    "    cv=5,\n",
    "    n_jobs=-1\n",
    ")\n",
    "\n",
    "pipe = Pipeline([\n",
    "    ('features', features),\n",
    "    ('main_regressor', gs)\n",
    "])"
   ]
  },
  {
   "cell_type": "code",
   "execution_count": 16,
   "id": "343f0c6c",
   "metadata": {},
   "outputs": [],
   "source": [
    "X = df.drop(numeric_columns, axis=1)\n",
    "y = np.log(df['sales_global'])"
   ]
  },
  {
   "cell_type": "code",
   "execution_count": 17,
   "id": "d3481eab",
   "metadata": {},
   "outputs": [],
   "source": [
    "X_train, X_test, y_train, y_test = train_test_split(X, y, test_size=0.05)"
   ]
  },
  {
   "cell_type": "code",
   "execution_count": 18,
   "id": "2138cace",
   "metadata": {},
   "outputs": [
    {
     "data": {
      "text/html": [
       "<style>#sk-container-id-1 {color: black;background-color: white;}#sk-container-id-1 pre{padding: 0;}#sk-container-id-1 div.sk-toggleable {background-color: white;}#sk-container-id-1 label.sk-toggleable__label {cursor: pointer;display: block;width: 100%;margin-bottom: 0;padding: 0.3em;box-sizing: border-box;text-align: center;}#sk-container-id-1 label.sk-toggleable__label-arrow:before {content: \"▸\";float: left;margin-right: 0.25em;color: #696969;}#sk-container-id-1 label.sk-toggleable__label-arrow:hover:before {color: black;}#sk-container-id-1 div.sk-estimator:hover label.sk-toggleable__label-arrow:before {color: black;}#sk-container-id-1 div.sk-toggleable__content {max-height: 0;max-width: 0;overflow: hidden;text-align: left;background-color: #f0f8ff;}#sk-container-id-1 div.sk-toggleable__content pre {margin: 0.2em;color: black;border-radius: 0.25em;background-color: #f0f8ff;}#sk-container-id-1 input.sk-toggleable__control:checked~div.sk-toggleable__content {max-height: 200px;max-width: 100%;overflow: auto;}#sk-container-id-1 input.sk-toggleable__control:checked~label.sk-toggleable__label-arrow:before {content: \"▾\";}#sk-container-id-1 div.sk-estimator input.sk-toggleable__control:checked~label.sk-toggleable__label {background-color: #d4ebff;}#sk-container-id-1 div.sk-label input.sk-toggleable__control:checked~label.sk-toggleable__label {background-color: #d4ebff;}#sk-container-id-1 input.sk-hidden--visually {border: 0;clip: rect(1px 1px 1px 1px);clip: rect(1px, 1px, 1px, 1px);height: 1px;margin: -1px;overflow: hidden;padding: 0;position: absolute;width: 1px;}#sk-container-id-1 div.sk-estimator {font-family: monospace;background-color: #f0f8ff;border: 1px dotted black;border-radius: 0.25em;box-sizing: border-box;margin-bottom: 0.5em;}#sk-container-id-1 div.sk-estimator:hover {background-color: #d4ebff;}#sk-container-id-1 div.sk-parallel-item::after {content: \"\";width: 100%;border-bottom: 1px solid gray;flex-grow: 1;}#sk-container-id-1 div.sk-label:hover label.sk-toggleable__label {background-color: #d4ebff;}#sk-container-id-1 div.sk-serial::before {content: \"\";position: absolute;border-left: 1px solid gray;box-sizing: border-box;top: 0;bottom: 0;left: 50%;z-index: 0;}#sk-container-id-1 div.sk-serial {display: flex;flex-direction: column;align-items: center;background-color: white;padding-right: 0.2em;padding-left: 0.2em;position: relative;}#sk-container-id-1 div.sk-item {position: relative;z-index: 1;}#sk-container-id-1 div.sk-parallel {display: flex;align-items: stretch;justify-content: center;background-color: white;position: relative;}#sk-container-id-1 div.sk-item::before, #sk-container-id-1 div.sk-parallel-item::before {content: \"\";position: absolute;border-left: 1px solid gray;box-sizing: border-box;top: 0;bottom: 0;left: 50%;z-index: -1;}#sk-container-id-1 div.sk-parallel-item {display: flex;flex-direction: column;z-index: 1;position: relative;background-color: white;}#sk-container-id-1 div.sk-parallel-item:first-child::after {align-self: flex-end;width: 50%;}#sk-container-id-1 div.sk-parallel-item:last-child::after {align-self: flex-start;width: 50%;}#sk-container-id-1 div.sk-parallel-item:only-child::after {width: 0;}#sk-container-id-1 div.sk-dashed-wrapped {border: 1px dashed gray;margin: 0 0.4em 0.5em 0.4em;box-sizing: border-box;padding-bottom: 0.4em;background-color: white;}#sk-container-id-1 div.sk-label label {font-family: monospace;font-weight: bold;display: inline-block;line-height: 1.2em;}#sk-container-id-1 div.sk-label-container {text-align: center;}#sk-container-id-1 div.sk-container {/* jupyter's `normalize.less` sets `[hidden] { display: none; }` but bootstrap.min.css set `[hidden] { display: none !important; }` so we also need the `!important` here to be able to override the default hidden behavior on the sphinx rendered scikit-learn.org. See: https://github.com/scikit-learn/scikit-learn/issues/21755 */display: inline-block !important;position: relative;}#sk-container-id-1 div.sk-text-repr-fallback {display: none;}</style><div id=\"sk-container-id-1\" class=\"sk-top-container\"><div class=\"sk-text-repr-fallback\"><pre>Pipeline(steps=[(&#x27;features&#x27;,\n",
       "                 ColumnTransformer(transformers=[(&#x27;list_vect_age_ratings&#x27;,\n",
       "                                                  Pipeline(steps=[(&#x27;dict_encoder&#x27;,\n",
       "                                                                   DictEncoder()),\n",
       "                                                                  (&#x27;dict_vectorizer&#x27;,\n",
       "                                                                   DictVectorizer())]),\n",
       "                                                  &#x27;age_ratings&#x27;),\n",
       "                                                 (&#x27;list_vect_game_modes&#x27;,\n",
       "                                                  Pipeline(steps=[(&#x27;dict_encoder&#x27;,\n",
       "                                                                   DictEncoder()),\n",
       "                                                                  (&#x27;dict_vectorizer&#x27;,\n",
       "                                                                   DictVectorizer())]),\n",
       "                                                  &#x27;game_modes&#x27;),\n",
       "                                                 (&#x27;list_vect_genres&#x27;,\n",
       "                                                  Pipeline(steps=[(&#x27;di...\n",
       "                 GridSearchCV(cv=5,\n",
       "                              estimator=Pipeline(steps=[(&#x27;dim_reduction&#x27;,\n",
       "                                                         TruncatedSVD()),\n",
       "                                                        (&#x27;regressor&#x27;,\n",
       "                                                         RandomForestRegressor())]),\n",
       "                              n_jobs=-1,\n",
       "                              param_grid={&#x27;dim_reduction__n_components&#x27;: [100,\n",
       "                                                                          250,\n",
       "                                                                          500],\n",
       "                                          &#x27;regressor__max_depth&#x27;: [None, 10, 20,\n",
       "                                                                   50],\n",
       "                                          &#x27;regressor__min_samples_leaf&#x27;: [1, 2,\n",
       "                                                                          4],\n",
       "                                          &#x27;regressor__min_samples_split&#x27;: [2, 5,\n",
       "                                                                           10],\n",
       "                                          &#x27;regressor__n_estimators&#x27;: [10, 50,\n",
       "                                                                      100, 200,\n",
       "                                                                      300]}))])</pre><b>In a Jupyter environment, please rerun this cell to show the HTML representation or trust the notebook. <br />On GitHub, the HTML representation is unable to render, please try loading this page with nbviewer.org.</b></div><div class=\"sk-container\" hidden><div class=\"sk-item sk-dashed-wrapped\"><div class=\"sk-label-container\"><div class=\"sk-label sk-toggleable\"><input class=\"sk-toggleable__control sk-hidden--visually\" id=\"sk-estimator-id-1\" type=\"checkbox\" ><label for=\"sk-estimator-id-1\" class=\"sk-toggleable__label sk-toggleable__label-arrow\">Pipeline</label><div class=\"sk-toggleable__content\"><pre>Pipeline(steps=[(&#x27;features&#x27;,\n",
       "                 ColumnTransformer(transformers=[(&#x27;list_vect_age_ratings&#x27;,\n",
       "                                                  Pipeline(steps=[(&#x27;dict_encoder&#x27;,\n",
       "                                                                   DictEncoder()),\n",
       "                                                                  (&#x27;dict_vectorizer&#x27;,\n",
       "                                                                   DictVectorizer())]),\n",
       "                                                  &#x27;age_ratings&#x27;),\n",
       "                                                 (&#x27;list_vect_game_modes&#x27;,\n",
       "                                                  Pipeline(steps=[(&#x27;dict_encoder&#x27;,\n",
       "                                                                   DictEncoder()),\n",
       "                                                                  (&#x27;dict_vectorizer&#x27;,\n",
       "                                                                   DictVectorizer())]),\n",
       "                                                  &#x27;game_modes&#x27;),\n",
       "                                                 (&#x27;list_vect_genres&#x27;,\n",
       "                                                  Pipeline(steps=[(&#x27;di...\n",
       "                 GridSearchCV(cv=5,\n",
       "                              estimator=Pipeline(steps=[(&#x27;dim_reduction&#x27;,\n",
       "                                                         TruncatedSVD()),\n",
       "                                                        (&#x27;regressor&#x27;,\n",
       "                                                         RandomForestRegressor())]),\n",
       "                              n_jobs=-1,\n",
       "                              param_grid={&#x27;dim_reduction__n_components&#x27;: [100,\n",
       "                                                                          250,\n",
       "                                                                          500],\n",
       "                                          &#x27;regressor__max_depth&#x27;: [None, 10, 20,\n",
       "                                                                   50],\n",
       "                                          &#x27;regressor__min_samples_leaf&#x27;: [1, 2,\n",
       "                                                                          4],\n",
       "                                          &#x27;regressor__min_samples_split&#x27;: [2, 5,\n",
       "                                                                           10],\n",
       "                                          &#x27;regressor__n_estimators&#x27;: [10, 50,\n",
       "                                                                      100, 200,\n",
       "                                                                      300]}))])</pre></div></div></div><div class=\"sk-serial\"><div class=\"sk-item sk-dashed-wrapped\"><div class=\"sk-label-container\"><div class=\"sk-label sk-toggleable\"><input class=\"sk-toggleable__control sk-hidden--visually\" id=\"sk-estimator-id-2\" type=\"checkbox\" ><label for=\"sk-estimator-id-2\" class=\"sk-toggleable__label sk-toggleable__label-arrow\">features: ColumnTransformer</label><div class=\"sk-toggleable__content\"><pre>ColumnTransformer(transformers=[(&#x27;list_vect_age_ratings&#x27;,\n",
       "                                 Pipeline(steps=[(&#x27;dict_encoder&#x27;,\n",
       "                                                  DictEncoder()),\n",
       "                                                 (&#x27;dict_vectorizer&#x27;,\n",
       "                                                  DictVectorizer())]),\n",
       "                                 &#x27;age_ratings&#x27;),\n",
       "                                (&#x27;list_vect_game_modes&#x27;,\n",
       "                                 Pipeline(steps=[(&#x27;dict_encoder&#x27;,\n",
       "                                                  DictEncoder()),\n",
       "                                                 (&#x27;dict_vectorizer&#x27;,\n",
       "                                                  DictVectorizer())]),\n",
       "                                 &#x27;game_modes&#x27;),\n",
       "                                (&#x27;list_vect_genres&#x27;,\n",
       "                                 Pipeline(steps=[(&#x27;dict_encoder&#x27;,\n",
       "                                                  DictEncoder()),\n",
       "                                                 (...\n",
       "                                                  FunctionTransformer(func=&lt;function text_column_preprocessing at 0x000002557F5F3490&gt;)),\n",
       "                                                 (&#x27;tfidf&#x27;,\n",
       "                                                  TfidfVectorizer(max_df=0.5,\n",
       "                                                                  min_df=20,\n",
       "                                                                  stop_words=[&#x27;twenty&#x27;,\n",
       "                                                                              &#x27;onto&#x27;,\n",
       "                                                                              &#x27;myself&#x27;,\n",
       "                                                                              &#x27;if&#x27;,\n",
       "                                                                              &#x27;i&#x27;,\n",
       "                                                                              &#x27;‘d&#x27;,\n",
       "                                                                              &#x27;many&#x27;,\n",
       "                                                                              &#x27;become&#x27;,\n",
       "                                                                              &#x27;being&#x27;,\n",
       "                                                                              &#x27;becomes&#x27;,\n",
       "                                                                              &#x27;go&#x27;,\n",
       "                                                                              &#x27;we&#x27;,\n",
       "                                                                              &#x27;then&#x27;,\n",
       "                                                                              &#x27;this&#x27;,\n",
       "                                                                              &#x27;too&#x27;,\n",
       "                                                                              &#x27;down&#x27;,\n",
       "                                                                              &#x27;full&#x27;,\n",
       "                                                                              &#x27;as&#x27;,\n",
       "                                                                              &#x27;itself&#x27;,\n",
       "                                                                              &#x27;through&#x27;,\n",
       "                                                                              &#x27;hence&#x27;,\n",
       "                                                                              &#x27;very&#x27;,\n",
       "                                                                              &#x27;least&#x27;,\n",
       "                                                                              &#x27;where&#x27;,\n",
       "                                                                              &#x27;those&#x27;,\n",
       "                                                                              &#x27;thereby&#x27;,\n",
       "                                                                              &#x27;please&#x27;,\n",
       "                                                                              &#x27;two&#x27;,\n",
       "                                                                              &#x27;due&#x27;,\n",
       "                                                                              &quot;&#x27;re&quot;, ...]))]),\n",
       "                                 &#x27;storyline&#x27;)])</pre></div></div></div><div class=\"sk-parallel\"><div class=\"sk-parallel-item\"><div class=\"sk-item\"><div class=\"sk-label-container\"><div class=\"sk-label sk-toggleable\"><input class=\"sk-toggleable__control sk-hidden--visually\" id=\"sk-estimator-id-3\" type=\"checkbox\" ><label for=\"sk-estimator-id-3\" class=\"sk-toggleable__label sk-toggleable__label-arrow\">list_vect_age_ratings</label><div class=\"sk-toggleable__content\"><pre>age_ratings</pre></div></div></div><div class=\"sk-serial\"><div class=\"sk-item\"><div class=\"sk-serial\"><div class=\"sk-item\"><div class=\"sk-estimator sk-toggleable\"><input class=\"sk-toggleable__control sk-hidden--visually\" id=\"sk-estimator-id-4\" type=\"checkbox\" ><label for=\"sk-estimator-id-4\" class=\"sk-toggleable__label sk-toggleable__label-arrow\">DictEncoder</label><div class=\"sk-toggleable__content\"><pre>DictEncoder()</pre></div></div></div><div class=\"sk-item\"><div class=\"sk-estimator sk-toggleable\"><input class=\"sk-toggleable__control sk-hidden--visually\" id=\"sk-estimator-id-5\" type=\"checkbox\" ><label for=\"sk-estimator-id-5\" class=\"sk-toggleable__label sk-toggleable__label-arrow\">DictVectorizer</label><div class=\"sk-toggleable__content\"><pre>DictVectorizer()</pre></div></div></div></div></div></div></div></div><div class=\"sk-parallel-item\"><div class=\"sk-item\"><div class=\"sk-label-container\"><div class=\"sk-label sk-toggleable\"><input class=\"sk-toggleable__control sk-hidden--visually\" id=\"sk-estimator-id-6\" type=\"checkbox\" ><label for=\"sk-estimator-id-6\" class=\"sk-toggleable__label sk-toggleable__label-arrow\">list_vect_game_modes</label><div class=\"sk-toggleable__content\"><pre>game_modes</pre></div></div></div><div class=\"sk-serial\"><div class=\"sk-item\"><div class=\"sk-serial\"><div class=\"sk-item\"><div class=\"sk-estimator sk-toggleable\"><input class=\"sk-toggleable__control sk-hidden--visually\" id=\"sk-estimator-id-7\" type=\"checkbox\" ><label for=\"sk-estimator-id-7\" class=\"sk-toggleable__label sk-toggleable__label-arrow\">DictEncoder</label><div class=\"sk-toggleable__content\"><pre>DictEncoder()</pre></div></div></div><div class=\"sk-item\"><div class=\"sk-estimator sk-toggleable\"><input class=\"sk-toggleable__control sk-hidden--visually\" id=\"sk-estimator-id-8\" type=\"checkbox\" ><label for=\"sk-estimator-id-8\" class=\"sk-toggleable__label sk-toggleable__label-arrow\">DictVectorizer</label><div class=\"sk-toggleable__content\"><pre>DictVectorizer()</pre></div></div></div></div></div></div></div></div><div class=\"sk-parallel-item\"><div class=\"sk-item\"><div class=\"sk-label-container\"><div class=\"sk-label sk-toggleable\"><input class=\"sk-toggleable__control sk-hidden--visually\" id=\"sk-estimator-id-9\" type=\"checkbox\" ><label for=\"sk-estimator-id-9\" class=\"sk-toggleable__label sk-toggleable__label-arrow\">list_vect_genres</label><div class=\"sk-toggleable__content\"><pre>genres</pre></div></div></div><div class=\"sk-serial\"><div class=\"sk-item\"><div class=\"sk-serial\"><div class=\"sk-item\"><div class=\"sk-estimator sk-toggleable\"><input class=\"sk-toggleable__control sk-hidden--visually\" id=\"sk-estimator-id-10\" type=\"checkbox\" ><label for=\"sk-estimator-id-10\" class=\"sk-toggleable__label sk-toggleable__label-arrow\">DictEncoder</label><div class=\"sk-toggleable__content\"><pre>DictEncoder()</pre></div></div></div><div class=\"sk-item\"><div class=\"sk-estimator sk-toggleable\"><input class=\"sk-toggleable__control sk-hidden--visually\" id=\"sk-estimator-id-11\" type=\"checkbox\" ><label for=\"sk-estimator-id-11\" class=\"sk-toggleable__label sk-toggleable__label-arrow\">DictVectorizer</label><div class=\"sk-toggleable__content\"><pre>DictVectorizer()</pre></div></div></div></div></div></div></div></div><div class=\"sk-parallel-item\"><div class=\"sk-item\"><div class=\"sk-label-container\"><div class=\"sk-label sk-toggleable\"><input class=\"sk-toggleable__control sk-hidden--visually\" id=\"sk-estimator-id-12\" type=\"checkbox\" ><label for=\"sk-estimator-id-12\" class=\"sk-toggleable__label sk-toggleable__label-arrow\">list_vect_themes</label><div class=\"sk-toggleable__content\"><pre>themes</pre></div></div></div><div class=\"sk-serial\"><div class=\"sk-item\"><div class=\"sk-serial\"><div class=\"sk-item\"><div class=\"sk-estimator sk-toggleable\"><input class=\"sk-toggleable__control sk-hidden--visually\" id=\"sk-estimator-id-13\" type=\"checkbox\" ><label for=\"sk-estimator-id-13\" class=\"sk-toggleable__label sk-toggleable__label-arrow\">DictEncoder</label><div class=\"sk-toggleable__content\"><pre>DictEncoder()</pre></div></div></div><div class=\"sk-item\"><div class=\"sk-estimator sk-toggleable\"><input class=\"sk-toggleable__control sk-hidden--visually\" id=\"sk-estimator-id-14\" type=\"checkbox\" ><label for=\"sk-estimator-id-14\" class=\"sk-toggleable__label sk-toggleable__label-arrow\">DictVectorizer</label><div class=\"sk-toggleable__content\"><pre>DictVectorizer()</pre></div></div></div></div></div></div></div></div><div class=\"sk-parallel-item\"><div class=\"sk-item\"><div class=\"sk-label-container\"><div class=\"sk-label sk-toggleable\"><input class=\"sk-toggleable__control sk-hidden--visually\" id=\"sk-estimator-id-15\" type=\"checkbox\" ><label for=\"sk-estimator-id-15\" class=\"sk-toggleable__label sk-toggleable__label-arrow\">list_vect_involved_companies</label><div class=\"sk-toggleable__content\"><pre>involved_companies</pre></div></div></div><div class=\"sk-serial\"><div class=\"sk-item\"><div class=\"sk-serial\"><div class=\"sk-item\"><div class=\"sk-estimator sk-toggleable\"><input class=\"sk-toggleable__control sk-hidden--visually\" id=\"sk-estimator-id-16\" type=\"checkbox\" ><label for=\"sk-estimator-id-16\" class=\"sk-toggleable__label sk-toggleable__label-arrow\">DictEncoder</label><div class=\"sk-toggleable__content\"><pre>DictEncoder()</pre></div></div></div><div class=\"sk-item\"><div class=\"sk-estimator sk-toggleable\"><input class=\"sk-toggleable__control sk-hidden--visually\" id=\"sk-estimator-id-17\" type=\"checkbox\" ><label for=\"sk-estimator-id-17\" class=\"sk-toggleable__label sk-toggleable__label-arrow\">DictVectorizer</label><div class=\"sk-toggleable__content\"><pre>DictVectorizer()</pre></div></div></div></div></div></div></div></div><div class=\"sk-parallel-item\"><div class=\"sk-item\"><div class=\"sk-label-container\"><div class=\"sk-label sk-toggleable\"><input class=\"sk-toggleable__control sk-hidden--visually\" id=\"sk-estimator-id-18\" type=\"checkbox\" ><label for=\"sk-estimator-id-18\" class=\"sk-toggleable__label sk-toggleable__label-arrow\">list_vect_keywords</label><div class=\"sk-toggleable__content\"><pre>keywords</pre></div></div></div><div class=\"sk-serial\"><div class=\"sk-item\"><div class=\"sk-serial\"><div class=\"sk-item\"><div class=\"sk-estimator sk-toggleable\"><input class=\"sk-toggleable__control sk-hidden--visually\" id=\"sk-estimator-id-19\" type=\"checkbox\" ><label for=\"sk-estimator-id-19\" class=\"sk-toggleable__label sk-toggleable__label-arrow\">DictEncoder</label><div class=\"sk-toggleable__content\"><pre>DictEncoder()</pre></div></div></div><div class=\"sk-item\"><div class=\"sk-estimator sk-toggleable\"><input class=\"sk-toggleable__control sk-hidden--visually\" id=\"sk-estimator-id-20\" type=\"checkbox\" ><label for=\"sk-estimator-id-20\" class=\"sk-toggleable__label sk-toggleable__label-arrow\">DictVectorizer</label><div class=\"sk-toggleable__content\"><pre>DictVectorizer()</pre></div></div></div></div></div></div></div></div><div class=\"sk-parallel-item\"><div class=\"sk-item\"><div class=\"sk-label-container\"><div class=\"sk-label sk-toggleable\"><input class=\"sk-toggleable__control sk-hidden--visually\" id=\"sk-estimator-id-21\" type=\"checkbox\" ><label for=\"sk-estimator-id-21\" class=\"sk-toggleable__label sk-toggleable__label-arrow\">list_vect_multiplayer_modes</label><div class=\"sk-toggleable__content\"><pre>multiplayer_modes</pre></div></div></div><div class=\"sk-serial\"><div class=\"sk-item\"><div class=\"sk-serial\"><div class=\"sk-item\"><div class=\"sk-estimator sk-toggleable\"><input class=\"sk-toggleable__control sk-hidden--visually\" id=\"sk-estimator-id-22\" type=\"checkbox\" ><label for=\"sk-estimator-id-22\" class=\"sk-toggleable__label sk-toggleable__label-arrow\">DictEncoder</label><div class=\"sk-toggleable__content\"><pre>DictEncoder()</pre></div></div></div><div class=\"sk-item\"><div class=\"sk-estimator sk-toggleable\"><input class=\"sk-toggleable__control sk-hidden--visually\" id=\"sk-estimator-id-23\" type=\"checkbox\" ><label for=\"sk-estimator-id-23\" class=\"sk-toggleable__label sk-toggleable__label-arrow\">DictVectorizer</label><div class=\"sk-toggleable__content\"><pre>DictVectorizer()</pre></div></div></div></div></div></div></div></div><div class=\"sk-parallel-item\"><div class=\"sk-item\"><div class=\"sk-label-container\"><div class=\"sk-label sk-toggleable\"><input class=\"sk-toggleable__control sk-hidden--visually\" id=\"sk-estimator-id-24\" type=\"checkbox\" ><label for=\"sk-estimator-id-24\" class=\"sk-toggleable__label sk-toggleable__label-arrow\">list_vect_franchises</label><div class=\"sk-toggleable__content\"><pre>franchises</pre></div></div></div><div class=\"sk-serial\"><div class=\"sk-item\"><div class=\"sk-serial\"><div class=\"sk-item\"><div class=\"sk-estimator sk-toggleable\"><input class=\"sk-toggleable__control sk-hidden--visually\" id=\"sk-estimator-id-25\" type=\"checkbox\" ><label for=\"sk-estimator-id-25\" class=\"sk-toggleable__label sk-toggleable__label-arrow\">DictEncoder</label><div class=\"sk-toggleable__content\"><pre>DictEncoder()</pre></div></div></div><div class=\"sk-item\"><div class=\"sk-estimator sk-toggleable\"><input class=\"sk-toggleable__control sk-hidden--visually\" id=\"sk-estimator-id-26\" type=\"checkbox\" ><label for=\"sk-estimator-id-26\" class=\"sk-toggleable__label sk-toggleable__label-arrow\">DictVectorizer</label><div class=\"sk-toggleable__content\"><pre>DictVectorizer()</pre></div></div></div></div></div></div></div></div><div class=\"sk-parallel-item\"><div class=\"sk-item\"><div class=\"sk-label-container\"><div class=\"sk-label sk-toggleable\"><input class=\"sk-toggleable__control sk-hidden--visually\" id=\"sk-estimator-id-27\" type=\"checkbox\" ><label for=\"sk-estimator-id-27\" class=\"sk-toggleable__label sk-toggleable__label-arrow\">list_vect_game_engines</label><div class=\"sk-toggleable__content\"><pre>game_engines</pre></div></div></div><div class=\"sk-serial\"><div class=\"sk-item\"><div class=\"sk-serial\"><div class=\"sk-item\"><div class=\"sk-estimator sk-toggleable\"><input class=\"sk-toggleable__control sk-hidden--visually\" id=\"sk-estimator-id-28\" type=\"checkbox\" ><label for=\"sk-estimator-id-28\" class=\"sk-toggleable__label sk-toggleable__label-arrow\">DictEncoder</label><div class=\"sk-toggleable__content\"><pre>DictEncoder()</pre></div></div></div><div class=\"sk-item\"><div class=\"sk-estimator sk-toggleable\"><input class=\"sk-toggleable__control sk-hidden--visually\" id=\"sk-estimator-id-29\" type=\"checkbox\" ><label for=\"sk-estimator-id-29\" class=\"sk-toggleable__label sk-toggleable__label-arrow\">DictVectorizer</label><div class=\"sk-toggleable__content\"><pre>DictVectorizer()</pre></div></div></div></div></div></div></div></div><div class=\"sk-parallel-item\"><div class=\"sk-item\"><div class=\"sk-label-container\"><div class=\"sk-label sk-toggleable\"><input class=\"sk-toggleable__control sk-hidden--visually\" id=\"sk-estimator-id-30\" type=\"checkbox\" ><label for=\"sk-estimator-id-30\" class=\"sk-toggleable__label sk-toggleable__label-arrow\">list_vect_player_perspectives</label><div class=\"sk-toggleable__content\"><pre>player_perspectives</pre></div></div></div><div class=\"sk-serial\"><div class=\"sk-item\"><div class=\"sk-serial\"><div class=\"sk-item\"><div class=\"sk-estimator sk-toggleable\"><input class=\"sk-toggleable__control sk-hidden--visually\" id=\"sk-estimator-id-31\" type=\"checkbox\" ><label for=\"sk-estimator-id-31\" class=\"sk-toggleable__label sk-toggleable__label-arrow\">DictEncoder</label><div class=\"sk-toggleable__content\"><pre>DictEncoder()</pre></div></div></div><div class=\"sk-item\"><div class=\"sk-estimator sk-toggleable\"><input class=\"sk-toggleable__control sk-hidden--visually\" id=\"sk-estimator-id-32\" type=\"checkbox\" ><label for=\"sk-estimator-id-32\" class=\"sk-toggleable__label sk-toggleable__label-arrow\">DictVectorizer</label><div class=\"sk-toggleable__content\"><pre>DictVectorizer()</pre></div></div></div></div></div></div></div></div><div class=\"sk-parallel-item\"><div class=\"sk-item\"><div class=\"sk-label-container\"><div class=\"sk-label sk-toggleable\"><input class=\"sk-toggleable__control sk-hidden--visually\" id=\"sk-estimator-id-33\" type=\"checkbox\" ><label for=\"sk-estimator-id-33\" class=\"sk-toggleable__label sk-toggleable__label-arrow\">list_vect_game_localizations</label><div class=\"sk-toggleable__content\"><pre>game_localizations</pre></div></div></div><div class=\"sk-serial\"><div class=\"sk-item\"><div class=\"sk-serial\"><div class=\"sk-item\"><div class=\"sk-estimator sk-toggleable\"><input class=\"sk-toggleable__control sk-hidden--visually\" id=\"sk-estimator-id-34\" type=\"checkbox\" ><label for=\"sk-estimator-id-34\" class=\"sk-toggleable__label sk-toggleable__label-arrow\">DictEncoder</label><div class=\"sk-toggleable__content\"><pre>DictEncoder()</pre></div></div></div><div class=\"sk-item\"><div class=\"sk-estimator sk-toggleable\"><input class=\"sk-toggleable__control sk-hidden--visually\" id=\"sk-estimator-id-35\" type=\"checkbox\" ><label for=\"sk-estimator-id-35\" class=\"sk-toggleable__label sk-toggleable__label-arrow\">DictVectorizer</label><div class=\"sk-toggleable__content\"><pre>DictVectorizer()</pre></div></div></div></div></div></div></div></div><div class=\"sk-parallel-item\"><div class=\"sk-item\"><div class=\"sk-label-container\"><div class=\"sk-label sk-toggleable\"><input class=\"sk-toggleable__control sk-hidden--visually\" id=\"sk-estimator-id-36\" type=\"checkbox\" ><label for=\"sk-estimator-id-36\" class=\"sk-toggleable__label sk-toggleable__label-arrow\">categorical</label><div class=\"sk-toggleable__content\"><pre>[&#x27;platform&#x27;, &#x27;genre&#x27;, &#x27;publisher&#x27;, &#x27;developer&#x27;, &#x27;rating&#x27;, &#x27;category&#x27;, &#x27;franchise&#x27;]</pre></div></div></div><div class=\"sk-serial\"><div class=\"sk-item\"><div class=\"sk-estimator sk-toggleable\"><input class=\"sk-toggleable__control sk-hidden--visually\" id=\"sk-estimator-id-37\" type=\"checkbox\" ><label for=\"sk-estimator-id-37\" class=\"sk-toggleable__label sk-toggleable__label-arrow\">OneHotEncoder</label><div class=\"sk-toggleable__content\"><pre>OneHotEncoder(handle_unknown=&#x27;ignore&#x27;)</pre></div></div></div></div></div></div><div class=\"sk-parallel-item\"><div class=\"sk-item\"><div class=\"sk-label-container\"><div class=\"sk-label sk-toggleable\"><input class=\"sk-toggleable__control sk-hidden--visually\" id=\"sk-estimator-id-38\" type=\"checkbox\" ><label for=\"sk-estimator-id-38\" class=\"sk-toggleable__label sk-toggleable__label-arrow\">text_summary</label><div class=\"sk-toggleable__content\"><pre>summary</pre></div></div></div><div class=\"sk-serial\"><div class=\"sk-item\"><div class=\"sk-serial\"><div class=\"sk-item\"><div class=\"sk-estimator sk-toggleable\"><input class=\"sk-toggleable__control sk-hidden--visually\" id=\"sk-estimator-id-39\" type=\"checkbox\" ><label for=\"sk-estimator-id-39\" class=\"sk-toggleable__label sk-toggleable__label-arrow\">FunctionTransformer</label><div class=\"sk-toggleable__content\"><pre>FunctionTransformer(func=&lt;function text_column_preprocessing at 0x000002557F5F3490&gt;)</pre></div></div></div><div class=\"sk-item\"><div class=\"sk-estimator sk-toggleable\"><input class=\"sk-toggleable__control sk-hidden--visually\" id=\"sk-estimator-id-40\" type=\"checkbox\" ><label for=\"sk-estimator-id-40\" class=\"sk-toggleable__label sk-toggleable__label-arrow\">TfidfVectorizer</label><div class=\"sk-toggleable__content\"><pre>TfidfVectorizer(max_df=0.5, min_df=20,\n",
       "                stop_words=[&#x27;twenty&#x27;, &#x27;onto&#x27;, &#x27;myself&#x27;, &#x27;if&#x27;, &#x27;i&#x27;, &#x27;‘d&#x27;, &#x27;many&#x27;,\n",
       "                            &#x27;become&#x27;, &#x27;being&#x27;, &#x27;becomes&#x27;, &#x27;go&#x27;, &#x27;we&#x27;, &#x27;then&#x27;,\n",
       "                            &#x27;this&#x27;, &#x27;too&#x27;, &#x27;down&#x27;, &#x27;full&#x27;, &#x27;as&#x27;, &#x27;itself&#x27;,\n",
       "                            &#x27;through&#x27;, &#x27;hence&#x27;, &#x27;very&#x27;, &#x27;least&#x27;, &#x27;where&#x27;,\n",
       "                            &#x27;those&#x27;, &#x27;thereby&#x27;, &#x27;please&#x27;, &#x27;two&#x27;, &#x27;due&#x27;, &quot;&#x27;re&quot;, ...])</pre></div></div></div></div></div></div></div></div><div class=\"sk-parallel-item\"><div class=\"sk-item\"><div class=\"sk-label-container\"><div class=\"sk-label sk-toggleable\"><input class=\"sk-toggleable__control sk-hidden--visually\" id=\"sk-estimator-id-41\" type=\"checkbox\" ><label for=\"sk-estimator-id-41\" class=\"sk-toggleable__label sk-toggleable__label-arrow\">text_storyline</label><div class=\"sk-toggleable__content\"><pre>storyline</pre></div></div></div><div class=\"sk-serial\"><div class=\"sk-item\"><div class=\"sk-serial\"><div class=\"sk-item\"><div class=\"sk-estimator sk-toggleable\"><input class=\"sk-toggleable__control sk-hidden--visually\" id=\"sk-estimator-id-42\" type=\"checkbox\" ><label for=\"sk-estimator-id-42\" class=\"sk-toggleable__label sk-toggleable__label-arrow\">FunctionTransformer</label><div class=\"sk-toggleable__content\"><pre>FunctionTransformer(func=&lt;function text_column_preprocessing at 0x000002557F5F3490&gt;)</pre></div></div></div><div class=\"sk-item\"><div class=\"sk-estimator sk-toggleable\"><input class=\"sk-toggleable__control sk-hidden--visually\" id=\"sk-estimator-id-43\" type=\"checkbox\" ><label for=\"sk-estimator-id-43\" class=\"sk-toggleable__label sk-toggleable__label-arrow\">TfidfVectorizer</label><div class=\"sk-toggleable__content\"><pre>TfidfVectorizer(max_df=0.5, min_df=20,\n",
       "                stop_words=[&#x27;twenty&#x27;, &#x27;onto&#x27;, &#x27;myself&#x27;, &#x27;if&#x27;, &#x27;i&#x27;, &#x27;‘d&#x27;, &#x27;many&#x27;,\n",
       "                            &#x27;become&#x27;, &#x27;being&#x27;, &#x27;becomes&#x27;, &#x27;go&#x27;, &#x27;we&#x27;, &#x27;then&#x27;,\n",
       "                            &#x27;this&#x27;, &#x27;too&#x27;, &#x27;down&#x27;, &#x27;full&#x27;, &#x27;as&#x27;, &#x27;itself&#x27;,\n",
       "                            &#x27;through&#x27;, &#x27;hence&#x27;, &#x27;very&#x27;, &#x27;least&#x27;, &#x27;where&#x27;,\n",
       "                            &#x27;those&#x27;, &#x27;thereby&#x27;, &#x27;please&#x27;, &#x27;two&#x27;, &#x27;due&#x27;, &quot;&#x27;re&quot;, ...])</pre></div></div></div></div></div></div></div></div></div></div><div class=\"sk-item sk-dashed-wrapped\"><div class=\"sk-label-container\"><div class=\"sk-label sk-toggleable\"><input class=\"sk-toggleable__control sk-hidden--visually\" id=\"sk-estimator-id-44\" type=\"checkbox\" ><label for=\"sk-estimator-id-44\" class=\"sk-toggleable__label sk-toggleable__label-arrow\">main_regressor: GridSearchCV</label><div class=\"sk-toggleable__content\"><pre>GridSearchCV(cv=5,\n",
       "             estimator=Pipeline(steps=[(&#x27;dim_reduction&#x27;, TruncatedSVD()),\n",
       "                                       (&#x27;regressor&#x27;, RandomForestRegressor())]),\n",
       "             n_jobs=-1,\n",
       "             param_grid={&#x27;dim_reduction__n_components&#x27;: [100, 250, 500],\n",
       "                         &#x27;regressor__max_depth&#x27;: [None, 10, 20, 50],\n",
       "                         &#x27;regressor__min_samples_leaf&#x27;: [1, 2, 4],\n",
       "                         &#x27;regressor__min_samples_split&#x27;: [2, 5, 10],\n",
       "                         &#x27;regressor__n_estimators&#x27;: [10, 50, 100, 200, 300]})</pre></div></div></div><div class=\"sk-parallel\"><div class=\"sk-parallel-item\"><div class=\"sk-item\"><div class=\"sk-label-container\"><div class=\"sk-label sk-toggleable\"><input class=\"sk-toggleable__control sk-hidden--visually\" id=\"sk-estimator-id-45\" type=\"checkbox\" ><label for=\"sk-estimator-id-45\" class=\"sk-toggleable__label sk-toggleable__label-arrow\">estimator: Pipeline</label><div class=\"sk-toggleable__content\"><pre>Pipeline(steps=[(&#x27;dim_reduction&#x27;, TruncatedSVD()),\n",
       "                (&#x27;regressor&#x27;, RandomForestRegressor())])</pre></div></div></div><div class=\"sk-serial\"><div class=\"sk-item\"><div class=\"sk-serial\"><div class=\"sk-item\"><div class=\"sk-estimator sk-toggleable\"><input class=\"sk-toggleable__control sk-hidden--visually\" id=\"sk-estimator-id-46\" type=\"checkbox\" ><label for=\"sk-estimator-id-46\" class=\"sk-toggleable__label sk-toggleable__label-arrow\">TruncatedSVD</label><div class=\"sk-toggleable__content\"><pre>TruncatedSVD()</pre></div></div></div><div class=\"sk-item\"><div class=\"sk-estimator sk-toggleable\"><input class=\"sk-toggleable__control sk-hidden--visually\" id=\"sk-estimator-id-47\" type=\"checkbox\" ><label for=\"sk-estimator-id-47\" class=\"sk-toggleable__label sk-toggleable__label-arrow\">RandomForestRegressor</label><div class=\"sk-toggleable__content\"><pre>RandomForestRegressor()</pre></div></div></div></div></div></div></div></div></div></div></div></div></div></div>"
      ],
      "text/plain": [
       "Pipeline(steps=[('features',\n",
       "                 ColumnTransformer(transformers=[('list_vect_age_ratings',\n",
       "                                                  Pipeline(steps=[('dict_encoder',\n",
       "                                                                   DictEncoder()),\n",
       "                                                                  ('dict_vectorizer',\n",
       "                                                                   DictVectorizer())]),\n",
       "                                                  'age_ratings'),\n",
       "                                                 ('list_vect_game_modes',\n",
       "                                                  Pipeline(steps=[('dict_encoder',\n",
       "                                                                   DictEncoder()),\n",
       "                                                                  ('dict_vectorizer',\n",
       "                                                                   DictVectorizer())]),\n",
       "                                                  'game_modes'),\n",
       "                                                 ('list_vect_genres',\n",
       "                                                  Pipeline(steps=[('di...\n",
       "                 GridSearchCV(cv=5,\n",
       "                              estimator=Pipeline(steps=[('dim_reduction',\n",
       "                                                         TruncatedSVD()),\n",
       "                                                        ('regressor',\n",
       "                                                         RandomForestRegressor())]),\n",
       "                              n_jobs=-1,\n",
       "                              param_grid={'dim_reduction__n_components': [100,\n",
       "                                                                          250,\n",
       "                                                                          500],\n",
       "                                          'regressor__max_depth': [None, 10, 20,\n",
       "                                                                   50],\n",
       "                                          'regressor__min_samples_leaf': [1, 2,\n",
       "                                                                          4],\n",
       "                                          'regressor__min_samples_split': [2, 5,\n",
       "                                                                           10],\n",
       "                                          'regressor__n_estimators': [10, 50,\n",
       "                                                                      100, 200,\n",
       "                                                                      300]}))])"
      ]
     },
     "execution_count": 18,
     "metadata": {},
     "output_type": "execute_result"
    }
   ],
   "source": [
    "pipe.fit(X_train, y_train)"
   ]
  },
  {
   "cell_type": "code",
   "execution_count": 19,
   "id": "de0bb51a",
   "metadata": {},
   "outputs": [
    {
     "data": {
      "text/plain": [
       "{'dim_reduction__n_components': 100,\n",
       " 'regressor__max_depth': 50,\n",
       " 'regressor__min_samples_leaf': 1,\n",
       " 'regressor__min_samples_split': 2,\n",
       " 'regressor__n_estimators': 300}"
      ]
     },
     "execution_count": 19,
     "metadata": {},
     "output_type": "execute_result"
    }
   ],
   "source": [
    "pipe.named_steps.main_regressor.best_params_"
   ]
  },
  {
   "cell_type": "code",
   "execution_count": 20,
   "id": "c9129eef",
   "metadata": {},
   "outputs": [],
   "source": [
    "y_pred = pipe.predict(X_test)"
   ]
  },
  {
   "cell_type": "code",
   "execution_count": 21,
   "id": "666ff214",
   "metadata": {},
   "outputs": [
    {
     "name": "stdout",
     "output_type": "stream",
     "text": [
      "Mean absolute error: 0.8295478955314408\n",
      "Mean squared error: 1.1518189545984068\n",
      "R^2: 0.47615068614498046\n"
     ]
    }
   ],
   "source": [
    "from sklearn import metrics\n",
    "\n",
    "print(f\"Mean absolute error: {metrics.mean_absolute_error(y_test, y_pred)}\")\n",
    "print(f\"Mean squared error: {metrics.mean_squared_error(y_test, y_pred)}\")\n",
    "print(f\"R^2: {metrics.r2_score(y_test, y_pred)}\")"
   ]
  },
  {
   "cell_type": "code",
   "execution_count": 22,
   "id": "77b83903",
   "metadata": {},
   "outputs": [
    {
     "data": {
      "text/plain": [
       "0.47615068614498046"
      ]
     },
     "execution_count": 22,
     "metadata": {},
     "output_type": "execute_result"
    }
   ],
   "source": [
    "pipe.score(X_test, y_test)"
   ]
  },
  {
   "cell_type": "code",
   "execution_count": null,
   "id": "4ec34579",
   "metadata": {},
   "outputs": [],
   "source": []
  },
  {
   "cell_type": "code",
   "execution_count": 23,
   "id": "15b99a25",
   "metadata": {},
   "outputs": [],
   "source": [
    "# from sklearn.preprocessing import MultiLabelBinarizer\n",
    "\n",
    "# mlb = MultiLabelBinarizer()\n",
    "\n",
    "#trans_test = mlb.fit_transform(test['genres'])\n",
    "#trans_columns = [f'genres_{column}' for column in mlb.classes_]\n",
    "#trans_df = pd.DataFrame(trans_test, columns=trans_columns)\n",
    "#result_df = pd.concat([test, trans_df], axis=1)\n",
    "#result_df"
   ]
  },
  {
   "cell_type": "code",
   "execution_count": 24,
   "id": "7699aa25",
   "metadata": {},
   "outputs": [],
   "source": [
    "# def SeriesEncoder(X):\n",
    "    \n",
    "#     return pd.Series([{key: 1 for key in row} for row in X], name=X.name)"
   ]
  },
  {
   "cell_type": "code",
   "execution_count": 25,
   "id": "c35a4cf5",
   "metadata": {},
   "outputs": [],
   "source": [
    "# from sklearn.preprocessing import FunctionTransformer\n",
    "\n",
    "# def DictEncoder(X):\n",
    "    \n",
    "#     if isinstance(X, pd.Series):\n",
    "#         print (f'DictEncoder treating X as a Series (name={X.name})')\n",
    "#         return SeriesEncoder(X)\n",
    "    \n",
    "#     else:\n",
    "    \n",
    "#         X_trans = pd.DataFrame()\n",
    "#         print (f'DictEncoder treating X as a DataFrame (columns={X.columns})')\n",
    "        \n",
    "#         for column in X.columns:\n",
    "# #             yield SeriesEncoder(X[column])\n",
    "\n",
    "#             encoded_column = SeriesEncoder(X[column])\n",
    "\n",
    "#             X_trans = pd.concat([X_trans, encoded_column], axis=1)\n",
    "\n",
    "#         return X_trans\n",
    "    \n",
    "#     return [{key: 1 for key in item} for item in X]"
   ]
  },
  {
   "cell_type": "code",
   "execution_count": 26,
   "id": "2b1f65ba",
   "metadata": {},
   "outputs": [],
   "source": [
    "# def ohe_list_column(series):\n",
    "    \n",
    "#     trans_series = mlb.fit_transform(series)\n",
    "    \n",
    "#     trans_columns_names = [f'{series.name}_{column}' for column in mlb.classes_]\n",
    "    \n",
    "#     trans_df = pd.DataFrame(trans_series, columns=trans_columns_names)\n",
    "    \n",
    "#     return trans_df"
   ]
  }
 ],
 "metadata": {
  "kernelspec": {
   "display_name": "Python 3 (ipykernel)",
   "language": "python",
   "name": "python3"
  },
  "language_info": {
   "codemirror_mode": {
    "name": "ipython",
    "version": 3
   },
   "file_extension": ".py",
   "mimetype": "text/x-python",
   "name": "python",
   "nbconvert_exporter": "python",
   "pygments_lexer": "ipython3",
   "version": "3.10.9"
  }
 },
 "nbformat": 4,
 "nbformat_minor": 5
}
